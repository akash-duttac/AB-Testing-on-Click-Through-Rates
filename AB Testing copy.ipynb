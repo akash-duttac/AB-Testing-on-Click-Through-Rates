{
 "cells": [
  {
   "cell_type": "code",
   "execution_count": 77,
   "metadata": {},
   "outputs": [],
   "source": [
    "import numpy as np\n",
    "import pandas as pd\n",
    "from scipy.stats import norm\n",
    "import seaborn as sns\n",
    "import matplotlib.pyplot as plt"
   ]
  },
  {
   "cell_type": "markdown",
   "metadata": {},
   "source": [
    "# Loading the CTR data for AB Test"
   ]
  },
  {
   "cell_type": "code",
   "execution_count": 78,
   "metadata": {},
   "outputs": [
    {
     "name": "stdout",
     "output_type": "stream",
     "text": [
      "      click group\n",
      "0         0   exp\n",
      "1         0   exp\n",
      "2         0   exp\n",
      "3         1   exp\n",
      "4         1   exp\n",
      "...     ...   ...\n",
      "9995      0   exp\n",
      "9996      0   exp\n",
      "9997      0   exp\n",
      "9998      0   exp\n",
      "9999      0   exp\n",
      "\n",
      "[10000 rows x 2 columns]\n",
      "      click group\n",
      "0         1   con\n",
      "1         0   con\n",
      "2         0   con\n",
      "3         1   con\n",
      "4         0   con\n",
      "...     ...   ...\n",
      "9995      0   con\n",
      "9996      1   con\n",
      "9997      0   con\n",
      "9998      0   con\n",
      "9999      0   con\n",
      "\n",
      "[10000 rows x 2 columns]\n",
      "       click group\n",
      "0          0   exp\n",
      "1          0   exp\n",
      "2          0   exp\n",
      "3          1   exp\n",
      "4          1   exp\n",
      "...      ...   ...\n",
      "19995      0   con\n",
      "19996      1   con\n",
      "19997      0   con\n",
      "19998      0   con\n",
      "19999      0   con\n",
      "\n",
      "[20000 rows x 2 columns]\n"
     ]
    }
   ],
   "source": [
    "N_exp = 10000\n",
    "N_con = 10000\n",
    "\n",
    "# Generating Click Data\n",
    "click_exp = pd.Series(np.random.binomial(1,0.5,size = N_exp))\n",
    "click_con = pd.Series(np.random.binomial(1,0.2,size = N_con))\n",
    "\n",
    "# Generate Group Identifier\n",
    "exp_id = pd.Series(np.repeat(\"exp\", N_exp))\n",
    "con_id = pd.Series(np.repeat(\"con\", N_con))\n",
    "\n",
    "df_exp = pd.concat([click_exp,exp_id], axis=1)\n",
    "df_con = pd.concat([click_con,con_id], axis=1)\n",
    "\n",
    "df_exp.columns = [\"click\",\"group\"]\n",
    "df_con.columns = [\"click\",\"group\"]\n",
    "print (df_exp)\n",
    "print(df_con)\n",
    "\n",
    "df_ab_test = pd.concat([df_exp,df_con],axis=0).reset_index(drop=True)\n",
    "print(df_ab_test)"
   ]
  },
  {
   "cell_type": "code",
   "execution_count": 79,
   "metadata": {},
   "outputs": [
    {
     "data": {
      "text/html": [
       "<div>\n",
       "<style scoped>\n",
       "    .dataframe tbody tr th:only-of-type {\n",
       "        vertical-align: middle;\n",
       "    }\n",
       "\n",
       "    .dataframe tbody tr th {\n",
       "        vertical-align: top;\n",
       "    }\n",
       "\n",
       "    .dataframe thead th {\n",
       "        text-align: right;\n",
       "    }\n",
       "</style>\n",
       "<table border=\"1\" class=\"dataframe\">\n",
       "  <thead>\n",
       "    <tr style=\"text-align: right;\">\n",
       "      <th></th>\n",
       "      <th>click</th>\n",
       "      <th>group</th>\n",
       "    </tr>\n",
       "  </thead>\n",
       "  <tbody>\n",
       "    <tr>\n",
       "      <th>0</th>\n",
       "      <td>0</td>\n",
       "      <td>exp</td>\n",
       "    </tr>\n",
       "    <tr>\n",
       "      <th>1</th>\n",
       "      <td>0</td>\n",
       "      <td>exp</td>\n",
       "    </tr>\n",
       "    <tr>\n",
       "      <th>2</th>\n",
       "      <td>0</td>\n",
       "      <td>exp</td>\n",
       "    </tr>\n",
       "    <tr>\n",
       "      <th>3</th>\n",
       "      <td>1</td>\n",
       "      <td>exp</td>\n",
       "    </tr>\n",
       "    <tr>\n",
       "      <th>4</th>\n",
       "      <td>1</td>\n",
       "      <td>exp</td>\n",
       "    </tr>\n",
       "  </tbody>\n",
       "</table>\n",
       "</div>"
      ],
      "text/plain": [
       "   click group\n",
       "0      0   exp\n",
       "1      0   exp\n",
       "2      0   exp\n",
       "3      1   exp\n",
       "4      1   exp"
      ]
     },
     "execution_count": 79,
     "metadata": {},
     "output_type": "execute_result"
    }
   ],
   "source": [
    "df_ab_test.head()"
   ]
  },
  {
   "cell_type": "code",
   "execution_count": 80,
   "metadata": {},
   "outputs": [
    {
     "data": {
      "text/html": [
       "<div>\n",
       "<style scoped>\n",
       "    .dataframe tbody tr th:only-of-type {\n",
       "        vertical-align: middle;\n",
       "    }\n",
       "\n",
       "    .dataframe tbody tr th {\n",
       "        vertical-align: top;\n",
       "    }\n",
       "\n",
       "    .dataframe thead th {\n",
       "        text-align: right;\n",
       "    }\n",
       "</style>\n",
       "<table border=\"1\" class=\"dataframe\">\n",
       "  <thead>\n",
       "    <tr style=\"text-align: right;\">\n",
       "      <th></th>\n",
       "      <th>click</th>\n",
       "    </tr>\n",
       "  </thead>\n",
       "  <tbody>\n",
       "    <tr>\n",
       "      <th>count</th>\n",
       "      <td>20000.000000</td>\n",
       "    </tr>\n",
       "    <tr>\n",
       "      <th>mean</th>\n",
       "      <td>0.347950</td>\n",
       "    </tr>\n",
       "    <tr>\n",
       "      <th>std</th>\n",
       "      <td>0.476332</td>\n",
       "    </tr>\n",
       "    <tr>\n",
       "      <th>min</th>\n",
       "      <td>0.000000</td>\n",
       "    </tr>\n",
       "    <tr>\n",
       "      <th>25%</th>\n",
       "      <td>0.000000</td>\n",
       "    </tr>\n",
       "    <tr>\n",
       "      <th>50%</th>\n",
       "      <td>0.000000</td>\n",
       "    </tr>\n",
       "    <tr>\n",
       "      <th>75%</th>\n",
       "      <td>1.000000</td>\n",
       "    </tr>\n",
       "    <tr>\n",
       "      <th>max</th>\n",
       "      <td>1.000000</td>\n",
       "    </tr>\n",
       "  </tbody>\n",
       "</table>\n",
       "</div>"
      ],
      "text/plain": [
       "              click\n",
       "count  20000.000000\n",
       "mean       0.347950\n",
       "std        0.476332\n",
       "min        0.000000\n",
       "25%        0.000000\n",
       "50%        0.000000\n",
       "75%        1.000000\n",
       "max        1.000000"
      ]
     },
     "execution_count": 80,
     "metadata": {},
     "output_type": "execute_result"
    }
   ],
   "source": [
    "df_ab_test.describe()"
   ]
  },
  {
   "cell_type": "code",
   "execution_count": 81,
   "metadata": {},
   "outputs": [
    {
     "data": {
      "text/html": [
       "<div>\n",
       "<style scoped>\n",
       "    .dataframe tbody tr th:only-of-type {\n",
       "        vertical-align: middle;\n",
       "    }\n",
       "\n",
       "    .dataframe tbody tr th {\n",
       "        vertical-align: top;\n",
       "    }\n",
       "\n",
       "    .dataframe thead th {\n",
       "        text-align: right;\n",
       "    }\n",
       "</style>\n",
       "<table border=\"1\" class=\"dataframe\">\n",
       "  <thead>\n",
       "    <tr style=\"text-align: right;\">\n",
       "      <th></th>\n",
       "      <th>click</th>\n",
       "    </tr>\n",
       "    <tr>\n",
       "      <th>group</th>\n",
       "      <th></th>\n",
       "    </tr>\n",
       "  </thead>\n",
       "  <tbody>\n",
       "    <tr>\n",
       "      <th>con</th>\n",
       "      <td>2019</td>\n",
       "    </tr>\n",
       "    <tr>\n",
       "      <th>exp</th>\n",
       "      <td>4940</td>\n",
       "    </tr>\n",
       "  </tbody>\n",
       "</table>\n",
       "</div>"
      ],
      "text/plain": [
       "       click\n",
       "group       \n",
       "con     2019\n",
       "exp     4940"
      ]
     },
     "execution_count": 81,
     "metadata": {},
     "output_type": "execute_result"
    }
   ],
   "source": [
    "df_ab_test.groupby(\"group\").sum(\"click\")"
   ]
  },
  {
   "cell_type": "markdown",
   "metadata": {},
   "source": [
    "A simple bar chart showing the total clicks v/s no-clicks in each group can provide a clear visual comparison of user engagement"
   ]
  },
  {
   "cell_type": "code",
   "execution_count": 82,
   "metadata": {},
   "outputs": [
    {
     "data": {
      "image/png": "[encoded data removed]",
      "text/plain": [
       "<Figure size 1000x600 with 1 Axes>"
      ]
     },
     "metadata": {},
     "output_type": "display_data"
    }
   ],
   "source": [
    "#custom palette for yellow and black\n",
    "palette = {0: 'yellow', 1: 'black'} #0 - no-click 1-click\n",
    "\n",
    "#plotting the click distribution for each group with the custom colours\n",
    "plt.figure(figsize=(10, 6))\n",
    "ax = sns.countplot(x = 'group', hue='click', data = df_ab_test, palette=palette)\n",
    "plt.title('Click distribution in Experimental and Control Groups')\n",
    "plt.xlabel('Group')\n",
    "plt.ylabel('Count')\n",
    "plt.legend(title = 'Click', labels = ['No', 'Yes'])\n",
    "\n",
    "group_counts = df_ab_test.groupby(['group']).size()\n",
    "group_click_counts = df_ab_test.groupby(['group', 'click']).size().reset_index(name='count')"
   ]
  },
  {
   "cell_type": "markdown",
   "metadata": {},
   "source": [
    "# Parameters of the model from Power Analysis"
   ]
  },
  {
   "cell_type": "code",
   "execution_count": 83,
   "metadata": {},
   "outputs": [
    {
     "name": "stdout",
     "output_type": "stream",
     "text": [
      "Alpha: significance level is 0.05\n",
      "Delta minimum detectable effect is 0.1\n"
     ]
    }
   ],
   "source": [
    "alpha = 0.05\n",
    "print(f\"Alpha: significance level is {alpha}\")\n",
    "\n",
    "delta = 0.1\n",
    "print(f\"Delta minimum detectable effect is {delta}\")"
   ]
  },
  {
   "cell_type": "markdown",
   "metadata": {},
   "source": [
    "# Calculating total number of clicks per group by summing clicks"
   ]
  },
  {
   "cell_type": "code",
   "execution_count": 84,
   "metadata": {},
   "outputs": [
    {
     "name": "stdout",
     "output_type": "stream",
     "text": [
      "group\n",
      "con    2019\n",
      "exp    4940\n",
      "Name: click, dtype: int64\n",
      "No. of users in Control: 10000\n",
      "No. of users in Experimental: 10000\n",
      "No. of clicks in Control: 2019\n",
      "No. of clicks in Experimental: 4940\n"
     ]
    }
   ],
   "source": [
    "# Calculate the number of users in each group\n",
    "N_con = df_ab_test[df_ab_test[\"group\"] == \"con\"].shape[0]  # Number of users in control group\n",
    "N_exp = df_ab_test[df_ab_test[\"group\"] == \"exp\"].shape[0]  # Number of users in experimental group\n",
    "\n",
    "# Calculating the total number of clicks per group by summing 1's\n",
    "X_con = df_ab_test.groupby(\"group\")[\"click\"].sum().loc[\"con\"]\n",
    "X_exp = df_ab_test.groupby(\"group\")[\"click\"].sum().loc[\"exp\"]\n",
    "\n",
    "# Printing this for visibility\n",
    "print(df_ab_test.groupby(\"group\")[\"click\"].sum())\n",
    "print(f\"No. of users in Control: {N_con}\")\n",
    "print(f\"No. of users in Experimental: {N_exp}\")\n",
    "print(f\"No. of clicks in Control: {X_con}\")\n",
    "print(f\"No. of clicks in Experimental: {X_exp}\")"
   ]
  },
  {
   "cell_type": "markdown",
   "metadata": {},
   "source": [
    "Calulating pooled estimates for clicks per group"
   ]
  },
  {
   "cell_type": "code",
   "execution_count": 85,
   "metadata": {},
   "outputs": [
    {
     "name": "stdout",
     "output_type": "stream",
     "text": [
      "Click probability in Control Group: 0.2019\n",
      "Click probability in Experimental Group: 0.494\n",
      "Pooled probability = 0.34795\n"
     ]
    }
   ],
   "source": [
    "p_con_hat = X_con/N_con\n",
    "p_exp_hat = X_exp/N_exp\n",
    "\n",
    "print(f\"Click probability in Control Group: {p_con_hat}\")\n",
    "print(f\"Click probability in Experimental Group: {p_exp_hat}\")\n",
    "\n",
    "#computing the estimate of pooled clicked probability\n",
    "p_pooled_hat = (X_con + X_exp) / (N_con + N_exp)\n",
    "\n",
    "print(f\"Pooled probability = {p_pooled_hat}\")"
   ]
  },
  {
   "cell_type": "markdown",
   "metadata": {},
   "source": [
    "Calculating Pooled Variance"
   ]
  },
  {
   "cell_type": "code",
   "execution_count": 86,
   "metadata": {},
   "outputs": [
    {
     "name": "stdout",
     "output_type": "stream",
     "text": [
      "p^_pooled is 4.53761595e-05\n"
     ]
    }
   ],
   "source": [
    "pooled_variance = p_pooled_hat * (1-p_pooled_hat) * (1/N_con + 1/N_exp)\n",
    "\n",
    "print(f\"p^_pooled is {pooled_variance}\")"
   ]
  },
  {
   "cell_type": "markdown",
   "metadata": {},
   "source": [
    "Calculating Standard Error and Test Statistics"
   ]
  },
  {
   "cell_type": "code",
   "execution_count": 87,
   "metadata": {},
   "outputs": [
    {
     "name": "stdout",
     "output_type": "stream",
     "text": [
      "Standard error is  0.006736182858266245\n",
      "Test statistics for 2-sample Z-test is  -43.36283710611451\n",
      "Z-critical value from Standard Normal Distribution  1.959963984540054\n"
     ]
    }
   ],
   "source": [
    "# computing the standard error of the test\n",
    "SE = np.sqrt(pooled_variance)\n",
    "print(\"Standard error is \", SE)\n",
    "\n",
    "# computing the test statistics of Z-test\n",
    "Test_stat = (p_con_hat - p_exp_hat)/SE\n",
    "print(\"Test statistics for 2-sample Z-test is \", Test_stat)\n",
    "\n",
    "# critical value of the Z-test\n",
    "Z_crit = norm.ppf(1-alpha/2)\n",
    "print(\"Z-critical value from Standard Normal Distribution \", Z_crit)"
   ]
  },
  {
   "cell_type": "markdown",
   "metadata": {},
   "source": [
    "# Calculating p_values of the Z-test\n",
    "* A low p-value (p<=0.05 at 5% significance level) indicates strong evidence against the null hypothesis, so we reject the null hypothesis.\n",
    "* A high p-value (p>0.05) indicates weak evidence against the null hypothesis, so we fail to reject the null hypothesis."
   ]
  },
  {
   "cell_type": "code",
   "execution_count": 88,
   "metadata": {},
   "outputs": [
    {
     "name": "stdout",
     "output_type": "stream",
     "text": [
      "0.0\n",
      "P-value of the 2-sample Z-test is 0.0\n",
      "There is statistical siginificance, indicating that the observed differences between the groups are unlikely to have occured. \n",
      "This suggests that the new feature of the landing page (Enroll now) is better and results in higher click rate.\n"
     ]
    }
   ],
   "source": [
    "# calculating the p-value\n",
    "p_value = norm.sf(abs(Test_stat))*2\n",
    "print(p_value)\n",
    "\n",
    "# function checking the statistical significance\n",
    "\n",
    "def is_statistical_significance(p_value, alpha):\n",
    "    '''\n",
    "    We assess whether there is statistical siginificance based on the p-value and alpha.\n",
    "\n",
    "    Arguments:\n",
    "     - p-value (float): The p-value resulting from the statistical test\n",
    "     - alpha (float, optional): The significance level threshold used to determine statistical siginificance. Defaults to 0.05.\n",
    "\n",
    "    Returns:\n",
    "        Prints the assessment of statistical siginificance.\n",
    "    '''\n",
    "\n",
    "    # print the rounded p-value to 3-decimal places\n",
    "    print(f\"P-value of the 2-sample Z-test is {np.round(p_value, 3)}\")\n",
    "\n",
    "    # determine statistical siginficance\n",
    "    if p_value < alpha:\n",
    "        print(\"There is statistical siginificance, indicating that the observed differences between the groups are unlikely to have occured. \\nThis suggests that the new feature of the landing page (Enroll now) is better and results in higher click rate.\")\n",
    "    else:\n",
    "        print(\"There is no statistical siginificance, suggesting that the observed differences between the groups could have occured randomly.\")\n",
    "\n",
    "is_statistical_significance(p_value, alpha)"
   ]
  },
  {
   "cell_type": "code",
   "execution_count": 89,
   "metadata": {},
   "outputs": [
    {
     "data": {
      "image/png": "[encoded data removed]",
      "text/plain": [
       "<Figure size 640x480 with 1 Axes>"
      ]
     },
     "metadata": {},
     "output_type": "display_data"
    }
   ],
   "source": [
    "# parameters for the standard normal distribution\n",
    "mu = 0\n",
    "sigma = 1\n",
    "x = np.linspace(mu - 3*sigma, mu + 3*sigma, 100)\n",
    "y = norm.pdf(x, mu, sigma)\n",
    "\n",
    "# plotting the standard normal distribution\n",
    "plt.plot(x, y, label = 'Standard Normal Distribution')\n",
    "# shade the rejection region for a two tailed test\n",
    "plt.fill_between(x, y, where=(x>Z_crit)|(x<-Z_crit), color='red', alpha=0.5, label='Rejection  Region')\n",
    "# adding the test statistic\n",
    "plt.axvline(Test_stat, color='green', linestyle='dashed', linewidth=2, label=f'Test Statistic = {Test_stat: .2f}')\n",
    "# adding Z-critical values\n",
    "plt.axvline(Z_crit, color='blue', linestyle='dashed', linewidth=1, label=f'Z-critical: {Z_crit:.2f}')\n",
    "plt.axvline(-Z_crit, color='blue', linestyle='dashed', linewidth=1)\n",
    "\n",
    "# adding labels and title\n",
    "plt.xlabel('Z-value')\n",
    "plt.ylabel('Probability Density')\n",
    "plt.title('Gaussian Distribution with Rejection Region \\n (A/B Testing)')\n",
    "plt.legend()\n",
    "\n",
    "plt.show()"
   ]
  },
  {
   "cell_type": "markdown",
   "metadata": {},
   "source": [
    "# Calculate the Confidence Interval of the test"
   ]
  },
  {
   "cell_type": "code",
   "execution_count": 90,
   "metadata": {},
   "outputs": [
    {
     "name": "stdout",
     "output_type": "stream",
     "text": [
      "Confidence interval of the 2 sample Z-test is [0.279, 0.305]\n"
     ]
    }
   ],
   "source": [
    "CI = [\n",
    "    round((p_exp_hat - p_con_hat) - SE*Z_crit, 3),\n",
    "    round((p_exp_hat - p_con_hat) + SE*Z_crit, 3)\n",
    "]\n",
    "\n",
    "print(f\"Confidence interval of the 2 sample Z-test is {CI}\")"
   ]
  },
  {
   "cell_type": "markdown",
   "metadata": {},
   "source": [
    "# Testing for Practical Siginificance in A/B Testing"
   ]
  },
  {
   "cell_type": "code",
   "execution_count": 93,
   "metadata": {},
   "outputs": [
    {
     "name": "stdout",
     "output_type": "stream",
     "text": [
      "We don't have practical siginificance. The difference between Control and Experimental group is not practically siginificant.\n",
      "Lower bound of 95% confidence level is  0.279\n"
     ]
    }
   ],
   "source": [
    "def is_Practically_significant(delta, CI_95):\n",
    "    '''\n",
    "    We assess here if the difference between the Control and Experimental group is practically siginificant using the Minimum Detectable Effect(MDE).\n",
    "    \n",
    "    Arguments:\n",
    "        -delta (float): The MDE considered for practical siginificance\n",
    "        -CI_95 (tuple): A tuple representing the lower and upper bounds of the 95% Confidence Interval\n",
    "    \n",
    "    Returns:\n",
    "        -Prints whether the experiment has practical significance based on the MDE and CI.\n",
    "    '''\n",
    "\n",
    "    # extract the lower bound of 95% Confidence Interval\n",
    "    lower_bound_CI = CI_95[0]\n",
    "\n",
    "    #check if the lower bound of the CI is greater than or equal to delta\n",
    "    if delta>=lower_bound_CI:\n",
    "        print(f\"We have practical siginificance. With MDE of {delta}, The difference between Control and Experimental Group id siginificant.\")\n",
    "        return True\n",
    "    else:\n",
    "        print(\"We don't have practical siginificance. The difference between Control and Experimental group is not practically siginificant.\")\n",
    "        return False\n",
    "\n",
    "CI_95 = (0.279, 0.305)\n",
    "significance = is_Practically_significant(delta, CI_95)\n",
    "print(\"Lower bound of 95% confidence level is \", CI_95[0])\n",
    "\n"
   ]
  }
 ],
 "metadata": {
  "kernelspec": {
   "display_name": "Python 3",
   "language": "python",
   "name": "python3"
  },
  "language_info": {
   "codemirror_mode": {
    "name": "ipython",
    "version": 3
   },
   "file_extension": ".py",
   "mimetype": "text/x-python",
   "name": "python",
   "nbconvert_exporter": "python",
   "pygments_lexer": "ipython3",
   "version": "3.11.7"
  }
 },
 "nbformat": 4,
 "nbformat_minor": 2
}
